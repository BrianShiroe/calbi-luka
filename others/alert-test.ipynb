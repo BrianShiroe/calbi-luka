{
 "cells": [
  {
   "cell_type": "code",
   "execution_count": null,
   "id": "a9174579",
   "metadata": {},
   "outputs": [
    {
     "name": "stdout",
     "output_type": "stream",
     "text": [
      "Inserted 100 random alerts between January 1, 2025, and March 27, 2025.\n"
     ]
    }
   ],
   "source": [
    "import sqlite3\n",
    "from random import randint, choice\n",
    "from datetime import datetime, timedelta\n",
    "\n",
    "# Connect to SQLite database\n",
    "conn = sqlite3.connect('../db/luka.sqlite')\n",
    "cursor = conn.cursor()\n",
    "\n",
    "# Date range: January 1, 2025, to March 27, 2025\n",
    "start_date = datetime(2025, 1, 1)\n",
    "end_date = datetime(2025, 3, 27)\n",
    "date_range = (end_date - start_date).days\n",
    "\n",
    "for _ in range(100):\n",
    "    # Generate a random date within the range\n",
    "    random_days = randint(0, date_range)\n",
    "    random_date = start_date + timedelta(days=random_days)\n",
    "    \n",
    "    # Generate a random time on that date\n",
    "    random_datetime = datetime(\n",
    "        random_date.year,\n",
    "        random_date.month,\n",
    "        random_date.day,\n",
    "        randint(0, 23),\n",
    "        randint(0, 59),\n",
    "        randint(0, 59)\n",
    "    )\n",
    "    formatted_date = random_datetime.strftime('%m-%d-%y_%I-%M-%S%p')\n",
    "    \n",
    "    # Generate other random data\n",
    "    camera_id = randint(1, 10)\n",
    "    camera_title = f'CAM{randint(1, 5)}'\n",
    "    event_type = choice(['collision_fire', 'fire_smoke', 'smoke_fire', 'landslide_flood'])\n",
    "    alert_level = choice(['low', 'medium', 'high'])\n",
    "    location = choice(['north', 'south', 'east', 'west'])\n",
    "    resolved = randint(0, 1)\n",
    "    \n",
    "    # Insert data into alert table\n",
    "    cursor.execute(\"\"\"\n",
    "        INSERT INTO alert (camera_id, camera_title, event_type, alert_level, location, detected_at, resolved)\n",
    "        VALUES (?, ?, ?, ?, ?, ?, ?)\n",
    "    \"\"\", (camera_id, camera_title, event_type, alert_level, location, formatted_date, resolved))\n",
    "\n",
    "conn.commit()\n",
    "conn.close()\n",
    "\n",
    "print(\"Inserted 100 random alerts between January 1, 2025, and March 27, 2025.\")\n"
   ]
  }
 ],
 "metadata": {
  "kernelspec": {
   "display_name": "luka_env",
   "language": "python",
   "name": "python3"
  },
  "language_info": {
   "codemirror_mode": {
    "name": "ipython",
    "version": 3
   },
   "file_extension": ".py",
   "mimetype": "text/x-python",
   "name": "python",
   "nbconvert_exporter": "python",
   "pygments_lexer": "ipython3",
   "version": "3.11.11"
  }
 },
 "nbformat": 4,
 "nbformat_minor": 5
}
